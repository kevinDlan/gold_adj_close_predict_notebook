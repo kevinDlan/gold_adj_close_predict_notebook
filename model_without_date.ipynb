{
 "cells": [
  {
   "cell_type": "code",
   "execution_count": 6,
   "id": "35103bcf",
   "metadata": {},
   "outputs": [],
   "source": [
    "import pandas as pd\n",
    "import matplotlib.pyplot as plt\n",
    "import numpy as np\n",
    "from sklearn.linear_model import LinearRegression\n",
    "from sklearn.ensemble import GradientBoostingRegressor\n",
    "from sklearn.preprocessing import RobustScaler,StandardScaler\n",
    "from sklearn.model_selection import train_test_split,learning_curve\n",
    "import seaborn as sns\n",
    "from sklearn.metrics import classification_report\n",
    "%matplotlib inline\n",
    "sns.set()\n",
    "import warnings\n",
    "warnings.filterwarnings('ignore')"
   ]
  },
  {
   "cell_type": "code",
   "execution_count": 7,
   "id": "4a2fe6b1",
   "metadata": {},
   "outputs": [],
   "source": [
    "df = pd.read_csv('dataset.csv', index_col='Date', parse_dates=True)"
   ]
  },
  {
   "cell_type": "code",
   "execution_count": 8,
   "id": "f1e81013",
   "metadata": {},
   "outputs": [
    {
     "data": {
      "text/html": [
       "<div>\n",
       "<style scoped>\n",
       "    .dataframe tbody tr th:only-of-type {\n",
       "        vertical-align: middle;\n",
       "    }\n",
       "\n",
       "    .dataframe tbody tr th {\n",
       "        vertical-align: top;\n",
       "    }\n",
       "\n",
       "    .dataframe thead th {\n",
       "        text-align: right;\n",
       "    }\n",
       "</style>\n",
       "<table border=\"1\" class=\"dataframe\">\n",
       "  <thead>\n",
       "    <tr style=\"text-align: right;\">\n",
       "      <th></th>\n",
       "      <th>Open</th>\n",
       "      <th>High</th>\n",
       "      <th>Low</th>\n",
       "      <th>Close</th>\n",
       "      <th>Adj Close</th>\n",
       "      <th>Volume</th>\n",
       "      <th>SP_open</th>\n",
       "      <th>SP_high</th>\n",
       "      <th>SP_low</th>\n",
       "      <th>SP_close</th>\n",
       "      <th>...</th>\n",
       "      <th>GDX_Low</th>\n",
       "      <th>GDX_Close</th>\n",
       "      <th>GDX_Adj Close</th>\n",
       "      <th>GDX_Volume</th>\n",
       "      <th>USO_Open</th>\n",
       "      <th>USO_High</th>\n",
       "      <th>USO_Low</th>\n",
       "      <th>USO_Close</th>\n",
       "      <th>USO_Adj Close</th>\n",
       "      <th>USO_Volume</th>\n",
       "    </tr>\n",
       "    <tr>\n",
       "      <th>Date</th>\n",
       "      <th></th>\n",
       "      <th></th>\n",
       "      <th></th>\n",
       "      <th></th>\n",
       "      <th></th>\n",
       "      <th></th>\n",
       "      <th></th>\n",
       "      <th></th>\n",
       "      <th></th>\n",
       "      <th></th>\n",
       "      <th></th>\n",
       "      <th></th>\n",
       "      <th></th>\n",
       "      <th></th>\n",
       "      <th></th>\n",
       "      <th></th>\n",
       "      <th></th>\n",
       "      <th></th>\n",
       "      <th></th>\n",
       "      <th></th>\n",
       "      <th></th>\n",
       "    </tr>\n",
       "  </thead>\n",
       "  <tbody>\n",
       "    <tr>\n",
       "      <th>2011-12-15</th>\n",
       "      <td>154.740005</td>\n",
       "      <td>154.949997</td>\n",
       "      <td>151.710007</td>\n",
       "      <td>152.330002</td>\n",
       "      <td>152.330002</td>\n",
       "      <td>21521900</td>\n",
       "      <td>123.029999</td>\n",
       "      <td>123.199997</td>\n",
       "      <td>121.989998</td>\n",
       "      <td>122.180000</td>\n",
       "      <td>...</td>\n",
       "      <td>51.570000</td>\n",
       "      <td>51.680000</td>\n",
       "      <td>48.973877</td>\n",
       "      <td>20605600</td>\n",
       "      <td>36.900002</td>\n",
       "      <td>36.939999</td>\n",
       "      <td>36.049999</td>\n",
       "      <td>36.130001</td>\n",
       "      <td>36.130001</td>\n",
       "      <td>12616700</td>\n",
       "    </tr>\n",
       "    <tr>\n",
       "      <th>2011-12-16</th>\n",
       "      <td>154.309998</td>\n",
       "      <td>155.369995</td>\n",
       "      <td>153.899994</td>\n",
       "      <td>155.229996</td>\n",
       "      <td>155.229996</td>\n",
       "      <td>18124300</td>\n",
       "      <td>122.230003</td>\n",
       "      <td>122.949997</td>\n",
       "      <td>121.300003</td>\n",
       "      <td>121.589996</td>\n",
       "      <td>...</td>\n",
       "      <td>52.040001</td>\n",
       "      <td>52.680000</td>\n",
       "      <td>49.921513</td>\n",
       "      <td>16285400</td>\n",
       "      <td>36.180000</td>\n",
       "      <td>36.500000</td>\n",
       "      <td>35.730000</td>\n",
       "      <td>36.270000</td>\n",
       "      <td>36.270000</td>\n",
       "      <td>12578800</td>\n",
       "    </tr>\n",
       "    <tr>\n",
       "      <th>2011-12-19</th>\n",
       "      <td>155.479996</td>\n",
       "      <td>155.860001</td>\n",
       "      <td>154.360001</td>\n",
       "      <td>154.869995</td>\n",
       "      <td>154.869995</td>\n",
       "      <td>12547200</td>\n",
       "      <td>122.059998</td>\n",
       "      <td>122.320000</td>\n",
       "      <td>120.029999</td>\n",
       "      <td>120.290001</td>\n",
       "      <td>...</td>\n",
       "      <td>51.029999</td>\n",
       "      <td>51.169998</td>\n",
       "      <td>48.490578</td>\n",
       "      <td>15120200</td>\n",
       "      <td>36.389999</td>\n",
       "      <td>36.450001</td>\n",
       "      <td>35.930000</td>\n",
       "      <td>36.200001</td>\n",
       "      <td>36.200001</td>\n",
       "      <td>7418200</td>\n",
       "    </tr>\n",
       "    <tr>\n",
       "      <th>2011-12-20</th>\n",
       "      <td>156.820007</td>\n",
       "      <td>157.429993</td>\n",
       "      <td>156.580002</td>\n",
       "      <td>156.979996</td>\n",
       "      <td>156.979996</td>\n",
       "      <td>9136300</td>\n",
       "      <td>122.180000</td>\n",
       "      <td>124.139999</td>\n",
       "      <td>120.370003</td>\n",
       "      <td>123.930000</td>\n",
       "      <td>...</td>\n",
       "      <td>52.369999</td>\n",
       "      <td>52.990002</td>\n",
       "      <td>50.215282</td>\n",
       "      <td>11644900</td>\n",
       "      <td>37.299999</td>\n",
       "      <td>37.610001</td>\n",
       "      <td>37.220001</td>\n",
       "      <td>37.560001</td>\n",
       "      <td>37.560001</td>\n",
       "      <td>10041600</td>\n",
       "    </tr>\n",
       "    <tr>\n",
       "      <th>2011-12-21</th>\n",
       "      <td>156.979996</td>\n",
       "      <td>157.529999</td>\n",
       "      <td>156.130005</td>\n",
       "      <td>157.160004</td>\n",
       "      <td>157.160004</td>\n",
       "      <td>11996100</td>\n",
       "      <td>123.930000</td>\n",
       "      <td>124.360001</td>\n",
       "      <td>122.750000</td>\n",
       "      <td>124.169998</td>\n",
       "      <td>...</td>\n",
       "      <td>52.419998</td>\n",
       "      <td>52.959999</td>\n",
       "      <td>50.186852</td>\n",
       "      <td>8724300</td>\n",
       "      <td>37.669998</td>\n",
       "      <td>38.240002</td>\n",
       "      <td>37.520000</td>\n",
       "      <td>38.110001</td>\n",
       "      <td>38.110001</td>\n",
       "      <td>10728000</td>\n",
       "    </tr>\n",
       "  </tbody>\n",
       "</table>\n",
       "<p>5 rows × 80 columns</p>\n",
       "</div>"
      ],
      "text/plain": [
       "                  Open        High         Low       Close   Adj Close  \\\n",
       "Date                                                                     \n",
       "2011-12-15  154.740005  154.949997  151.710007  152.330002  152.330002   \n",
       "2011-12-16  154.309998  155.369995  153.899994  155.229996  155.229996   \n",
       "2011-12-19  155.479996  155.860001  154.360001  154.869995  154.869995   \n",
       "2011-12-20  156.820007  157.429993  156.580002  156.979996  156.979996   \n",
       "2011-12-21  156.979996  157.529999  156.130005  157.160004  157.160004   \n",
       "\n",
       "              Volume     SP_open     SP_high      SP_low    SP_close  ...  \\\n",
       "Date                                                                  ...   \n",
       "2011-12-15  21521900  123.029999  123.199997  121.989998  122.180000  ...   \n",
       "2011-12-16  18124300  122.230003  122.949997  121.300003  121.589996  ...   \n",
       "2011-12-19  12547200  122.059998  122.320000  120.029999  120.290001  ...   \n",
       "2011-12-20   9136300  122.180000  124.139999  120.370003  123.930000  ...   \n",
       "2011-12-21  11996100  123.930000  124.360001  122.750000  124.169998  ...   \n",
       "\n",
       "              GDX_Low  GDX_Close  GDX_Adj Close  GDX_Volume   USO_Open  \\\n",
       "Date                                                                     \n",
       "2011-12-15  51.570000  51.680000      48.973877    20605600  36.900002   \n",
       "2011-12-16  52.040001  52.680000      49.921513    16285400  36.180000   \n",
       "2011-12-19  51.029999  51.169998      48.490578    15120200  36.389999   \n",
       "2011-12-20  52.369999  52.990002      50.215282    11644900  37.299999   \n",
       "2011-12-21  52.419998  52.959999      50.186852     8724300  37.669998   \n",
       "\n",
       "             USO_High    USO_Low  USO_Close  USO_Adj Close  USO_Volume  \n",
       "Date                                                                    \n",
       "2011-12-15  36.939999  36.049999  36.130001      36.130001    12616700  \n",
       "2011-12-16  36.500000  35.730000  36.270000      36.270000    12578800  \n",
       "2011-12-19  36.450001  35.930000  36.200001      36.200001     7418200  \n",
       "2011-12-20  37.610001  37.220001  37.560001      37.560001    10041600  \n",
       "2011-12-21  38.240002  37.520000  38.110001      38.110001    10728000  \n",
       "\n",
       "[5 rows x 80 columns]"
      ]
     },
     "execution_count": 8,
     "metadata": {},
     "output_type": "execute_result"
    }
   ],
   "source": [
    "df.head()"
   ]
  },
  {
   "cell_type": "markdown",
   "id": "e82be0a2",
   "metadata": {},
   "source": [
    "### Preprocessing"
   ]
  },
  {
   "cell_type": "markdown",
   "id": "fd79fe1a",
   "metadata": {},
   "source": [
    "* Vérification des données manquante"
   ]
  },
  {
   "cell_type": "code",
   "execution_count": 9,
   "id": "71f3cd25",
   "metadata": {},
   "outputs": [],
   "source": [
    "# Fonction de Vérification des données manquantes\n",
    "def check_missing_value(df):\n",
    "    return df.isnull().values.any()"
   ]
  },
  {
   "cell_type": "code",
   "execution_count": 10,
   "id": "2d34dc23",
   "metadata": {},
   "outputs": [],
   "source": [
    "#def check_outliers(df):\n",
    "    #return df.boxplot(figsize=(15,5))"
   ]
  },
  {
   "cell_type": "code",
   "execution_count": 11,
   "id": "363af891",
   "metadata": {},
   "outputs": [
    {
     "data": {
      "text/plain": [
       "False"
      ]
     },
     "execution_count": 11,
     "metadata": {},
     "output_type": "execute_result"
    }
   ],
   "source": [
    "check_missing_value(df)"
   ]
  },
  {
   "cell_type": "markdown",
   "id": "47c1a3dc",
   "metadata": {},
   "source": [
    "* Vérification des types de données "
   ]
  },
  {
   "cell_type": "code",
   "execution_count": 12,
   "id": "1e531e63",
   "metadata": {},
   "outputs": [
    {
     "data": {
      "text/plain": [
       "Open             float64\n",
       "High             float64\n",
       "Low              float64\n",
       "Close            float64\n",
       "Adj Close        float64\n",
       "                  ...   \n",
       "USO_High         float64\n",
       "USO_Low          float64\n",
       "USO_Close        float64\n",
       "USO_Adj Close    float64\n",
       "USO_Volume         int64\n",
       "Length: 80, dtype: object"
      ]
     },
     "execution_count": 12,
     "metadata": {},
     "output_type": "execute_result"
    }
   ],
   "source": [
    "df.dtypes"
   ]
  },
  {
   "cell_type": "markdown",
   "id": "2977da1d",
   "metadata": {},
   "source": [
    "* Vérification des valeurs Aberrantes"
   ]
  },
  {
   "cell_type": "code",
   "execution_count": 13,
   "id": "1a2783ab",
   "metadata": {},
   "outputs": [],
   "source": [
    "#Fonction de recherche des valeurs aberrantes\n",
    "def valeurAberante(data):\n",
    "    percentage = {}\n",
    "    for col in data:\n",
    "        Q1 = np.quantile(data[col],0.25)\n",
    "        Q3 = np.quantile(data[col],0.75)\n",
    "        IIQ = Q3 - Q1\n",
    "        bornInf = Q1-1.5*IIQ\n",
    "        bornSup = Q3+1.5*IIQ\n",
    "        abberantVal = []\n",
    "        for i in df[col]:\n",
    "            if bornInf <= i <= bornSup :\n",
    "                pass\n",
    "            else:\n",
    "                abberantVal.append(i)\n",
    "                percent = len(abberantVal)*100/1718\n",
    "                percentage[col] = percent\n",
    "    return percentage"
   ]
  },
  {
   "cell_type": "code",
   "execution_count": 14,
   "id": "f2eeea54",
   "metadata": {},
   "outputs": [],
   "source": [
    "ab_dict = valeurAberante(df)"
   ]
  },
  {
   "cell_type": "code",
   "execution_count": 15,
   "id": "62dd4967",
   "metadata": {},
   "outputs": [],
   "source": [
    "df_ab = pd.DataFrame([ab_dict])"
   ]
  },
  {
   "cell_type": "code",
   "execution_count": 16,
   "id": "27d0f7f0",
   "metadata": {
    "scrolled": true
   },
   "outputs": [
    {
     "data": {
      "text/html": [
       "<div>\n",
       "<style scoped>\n",
       "    .dataframe tbody tr th:only-of-type {\n",
       "        vertical-align: middle;\n",
       "    }\n",
       "\n",
       "    .dataframe tbody tr th {\n",
       "        vertical-align: top;\n",
       "    }\n",
       "\n",
       "    .dataframe thead th {\n",
       "        text-align: right;\n",
       "    }\n",
       "</style>\n",
       "<table border=\"1\" class=\"dataframe\">\n",
       "  <thead>\n",
       "    <tr style=\"text-align: right;\">\n",
       "      <th></th>\n",
       "      <th>Open</th>\n",
       "      <th>High</th>\n",
       "      <th>Low</th>\n",
       "      <th>Close</th>\n",
       "      <th>Adj Close</th>\n",
       "      <th>Volume</th>\n",
       "      <th>SP_volume</th>\n",
       "      <th>DJ_volume</th>\n",
       "      <th>EG_open</th>\n",
       "      <th>EG_high</th>\n",
       "      <th>...</th>\n",
       "      <th>PLD_Low</th>\n",
       "      <th>RHO_PRICE</th>\n",
       "      <th>USDI_Volume</th>\n",
       "      <th>GDX_Open</th>\n",
       "      <th>GDX_High</th>\n",
       "      <th>GDX_Low</th>\n",
       "      <th>GDX_Close</th>\n",
       "      <th>GDX_Adj Close</th>\n",
       "      <th>GDX_Volume</th>\n",
       "      <th>USO_Volume</th>\n",
       "    </tr>\n",
       "  </thead>\n",
       "  <tbody>\n",
       "    <tr>\n",
       "      <th>0</th>\n",
       "      <td>18.975553</td>\n",
       "      <td>18.975553</td>\n",
       "      <td>18.917346</td>\n",
       "      <td>18.917346</td>\n",
       "      <td>18.917346</td>\n",
       "      <td>3.783469</td>\n",
       "      <td>2.444703</td>\n",
       "      <td>1.45518</td>\n",
       "      <td>4.307334</td>\n",
       "      <td>4.249127</td>\n",
       "      <td>...</td>\n",
       "      <td>1.513388</td>\n",
       "      <td>16.821886</td>\n",
       "      <td>4.481956</td>\n",
       "      <td>17.57858</td>\n",
       "      <td>17.694994</td>\n",
       "      <td>18.218859</td>\n",
       "      <td>17.811409</td>\n",
       "      <td>17.811409</td>\n",
       "      <td>3.725262</td>\n",
       "      <td>2.677532</td>\n",
       "    </tr>\n",
       "  </tbody>\n",
       "</table>\n",
       "<p>1 rows × 33 columns</p>\n",
       "</div>"
      ],
      "text/plain": [
       "        Open       High        Low      Close  Adj Close    Volume  SP_volume  \\\n",
       "0  18.975553  18.975553  18.917346  18.917346  18.917346  3.783469   2.444703   \n",
       "\n",
       "   DJ_volume   EG_open   EG_high  ...   PLD_Low  RHO_PRICE  USDI_Volume  \\\n",
       "0    1.45518  4.307334  4.249127  ...  1.513388  16.821886     4.481956   \n",
       "\n",
       "   GDX_Open   GDX_High    GDX_Low  GDX_Close  GDX_Adj Close  GDX_Volume  \\\n",
       "0  17.57858  17.694994  18.218859  17.811409      17.811409    3.725262   \n",
       "\n",
       "   USO_Volume  \n",
       "0    2.677532  \n",
       "\n",
       "[1 rows x 33 columns]"
      ]
     },
     "execution_count": 16,
     "metadata": {},
     "output_type": "execute_result"
    }
   ],
   "source": [
    "df_ab"
   ]
  },
  {
   "cell_type": "markdown",
   "id": "be769601",
   "metadata": {},
   "source": [
    "## Création du modèle sans les données aberrantes"
   ]
  },
  {
   "cell_type": "code",
   "execution_count": 19,
   "id": "eca89ad6",
   "metadata": {},
   "outputs": [],
   "source": [
    "y = df['Adj Close']\n",
    "X = df.drop(df_ab.columns, axis=1)"
   ]
  },
  {
   "cell_type": "code",
   "execution_count": 20,
   "id": "9e3c9d9e",
   "metadata": {},
   "outputs": [
    {
     "data": {
      "text/plain": [
       "(1718,)"
      ]
     },
     "execution_count": 20,
     "metadata": {},
     "output_type": "execute_result"
    }
   ],
   "source": [
    "y.shape"
   ]
  },
  {
   "cell_type": "markdown",
   "id": "82bbbb74",
   "metadata": {},
   "source": [
    "* Normalisation des données"
   ]
  },
  {
   "cell_type": "code",
   "execution_count": 23,
   "id": "625a7c82",
   "metadata": {
    "scrolled": false
   },
   "outputs": [],
   "source": [
    "std_normalizer = StandardScaler()\n",
    "std_normalizer.fit(X)\n",
    "X[X.columns] = std_normalizer.transform(X)"
   ]
  },
  {
   "cell_type": "code",
   "execution_count": 24,
   "id": "66306a13",
   "metadata": {},
   "outputs": [
    {
     "data": {
      "text/html": [
       "<div>\n",
       "<style scoped>\n",
       "    .dataframe tbody tr th:only-of-type {\n",
       "        vertical-align: middle;\n",
       "    }\n",
       "\n",
       "    .dataframe tbody tr th {\n",
       "        vertical-align: top;\n",
       "    }\n",
       "\n",
       "    .dataframe thead th {\n",
       "        text-align: right;\n",
       "    }\n",
       "</style>\n",
       "<table border=\"1\" class=\"dataframe\">\n",
       "  <thead>\n",
       "    <tr style=\"text-align: right;\">\n",
       "      <th></th>\n",
       "      <th>SP_open</th>\n",
       "      <th>SP_high</th>\n",
       "      <th>SP_low</th>\n",
       "      <th>SP_close</th>\n",
       "      <th>SP_Ajclose</th>\n",
       "      <th>DJ_open</th>\n",
       "      <th>DJ_high</th>\n",
       "      <th>DJ_low</th>\n",
       "      <th>DJ_close</th>\n",
       "      <th>DJ_Ajclose</th>\n",
       "      <th>...</th>\n",
       "      <th>USDI_Price</th>\n",
       "      <th>USDI_Open</th>\n",
       "      <th>USDI_High</th>\n",
       "      <th>USDI_Low</th>\n",
       "      <th>USDI_Trend</th>\n",
       "      <th>USO_Open</th>\n",
       "      <th>USO_High</th>\n",
       "      <th>USO_Low</th>\n",
       "      <th>USO_Close</th>\n",
       "      <th>USO_Adj Close</th>\n",
       "    </tr>\n",
       "    <tr>\n",
       "      <th>Date</th>\n",
       "      <th></th>\n",
       "      <th></th>\n",
       "      <th></th>\n",
       "      <th></th>\n",
       "      <th></th>\n",
       "      <th></th>\n",
       "      <th></th>\n",
       "      <th></th>\n",
       "      <th></th>\n",
       "      <th></th>\n",
       "      <th></th>\n",
       "      <th></th>\n",
       "      <th></th>\n",
       "      <th></th>\n",
       "      <th></th>\n",
       "      <th></th>\n",
       "      <th></th>\n",
       "      <th></th>\n",
       "      <th></th>\n",
       "      <th></th>\n",
       "      <th></th>\n",
       "    </tr>\n",
       "  </thead>\n",
       "  <tbody>\n",
       "    <tr>\n",
       "      <th>2011-12-15</th>\n",
       "      <td>-1.859004</td>\n",
       "      <td>-1.869181</td>\n",
       "      <td>-1.868930</td>\n",
       "      <td>-1.880786</td>\n",
       "      <td>-1.788933</td>\n",
       "      <td>-1.629320</td>\n",
       "      <td>-1.607299</td>\n",
       "      <td>-1.615966</td>\n",
       "      <td>-1.621096</td>\n",
       "      <td>-1.621096</td>\n",
       "      <td>...</td>\n",
       "      <td>-1.260117</td>\n",
       "      <td>-1.229011</td>\n",
       "      <td>-1.251568</td>\n",
       "      <td>-1.257772</td>\n",
       "      <td>-1.025948</td>\n",
       "      <td>1.293922</td>\n",
       "      <td>1.275157</td>\n",
       "      <td>1.244018</td>\n",
       "      <td>1.226738</td>\n",
       "      <td>1.226738</td>\n",
       "    </tr>\n",
       "    <tr>\n",
       "      <th>2011-12-16</th>\n",
       "      <td>-1.877261</td>\n",
       "      <td>-1.874868</td>\n",
       "      <td>-1.884753</td>\n",
       "      <td>-1.894268</td>\n",
       "      <td>-1.785710</td>\n",
       "      <td>-1.617758</td>\n",
       "      <td>-1.607212</td>\n",
       "      <td>-1.617494</td>\n",
       "      <td>-1.621720</td>\n",
       "      <td>-1.621720</td>\n",
       "      <td>...</td>\n",
       "      <td>-1.272361</td>\n",
       "      <td>-1.280883</td>\n",
       "      <td>-1.282630</td>\n",
       "      <td>-1.283922</td>\n",
       "      <td>-1.025948</td>\n",
       "      <td>1.230917</td>\n",
       "      <td>1.236814</td>\n",
       "      <td>1.215876</td>\n",
       "      <td>1.238987</td>\n",
       "      <td>1.238987</td>\n",
       "    </tr>\n",
       "    <tr>\n",
       "      <th>2011-12-19</th>\n",
       "      <td>-1.881141</td>\n",
       "      <td>-1.889198</td>\n",
       "      <td>-1.913878</td>\n",
       "      <td>-1.923972</td>\n",
       "      <td>-1.808989</td>\n",
       "      <td>-1.618712</td>\n",
       "      <td>-1.618045</td>\n",
       "      <td>-1.639248</td>\n",
       "      <td>-1.647504</td>\n",
       "      <td>-1.647504</td>\n",
       "      <td>...</td>\n",
       "      <td>-1.277950</td>\n",
       "      <td>-1.264257</td>\n",
       "      <td>-1.272717</td>\n",
       "      <td>-1.258443</td>\n",
       "      <td>-1.025948</td>\n",
       "      <td>1.249293</td>\n",
       "      <td>1.232457</td>\n",
       "      <td>1.233465</td>\n",
       "      <td>1.232862</td>\n",
       "      <td>1.232862</td>\n",
       "    </tr>\n",
       "    <tr>\n",
       "      <th>2011-12-20</th>\n",
       "      <td>-1.878402</td>\n",
       "      <td>-1.847799</td>\n",
       "      <td>-1.906081</td>\n",
       "      <td>-1.840800</td>\n",
       "      <td>-1.743809</td>\n",
       "      <td>-1.643741</td>\n",
       "      <td>-1.569068</td>\n",
       "      <td>-1.630548</td>\n",
       "      <td>-1.560641</td>\n",
       "      <td>-1.560641</td>\n",
       "      <td>...</td>\n",
       "      <td>-1.269167</td>\n",
       "      <td>-1.185785</td>\n",
       "      <td>-1.210594</td>\n",
       "      <td>-1.270512</td>\n",
       "      <td>0.974709</td>\n",
       "      <td>1.328924</td>\n",
       "      <td>1.333544</td>\n",
       "      <td>1.346915</td>\n",
       "      <td>1.351853</td>\n",
       "      <td>1.351853</td>\n",
       "    </tr>\n",
       "    <tr>\n",
       "      <th>2011-12-21</th>\n",
       "      <td>-1.838465</td>\n",
       "      <td>-1.842794</td>\n",
       "      <td>-1.851501</td>\n",
       "      <td>-1.835316</td>\n",
       "      <td>-1.739510</td>\n",
       "      <td>-1.557754</td>\n",
       "      <td>-1.568409</td>\n",
       "      <td>-1.570910</td>\n",
       "      <td>-1.559570</td>\n",
       "      <td>-1.559570</td>\n",
       "      <td>...</td>\n",
       "      <td>-1.258919</td>\n",
       "      <td>-1.290193</td>\n",
       "      <td>-1.276021</td>\n",
       "      <td>-1.335550</td>\n",
       "      <td>0.974709</td>\n",
       "      <td>1.361301</td>\n",
       "      <td>1.388444</td>\n",
       "      <td>1.373298</td>\n",
       "      <td>1.399974</td>\n",
       "      <td>1.399974</td>\n",
       "    </tr>\n",
       "    <tr>\n",
       "      <th>...</th>\n",
       "      <td>...</td>\n",
       "      <td>...</td>\n",
       "      <td>...</td>\n",
       "      <td>...</td>\n",
       "      <td>...</td>\n",
       "      <td>...</td>\n",
       "      <td>...</td>\n",
       "      <td>...</td>\n",
       "      <td>...</td>\n",
       "      <td>...</td>\n",
       "      <td>...</td>\n",
       "      <td>...</td>\n",
       "      <td>...</td>\n",
       "      <td>...</td>\n",
       "      <td>...</td>\n",
       "      <td>...</td>\n",
       "      <td>...</td>\n",
       "      <td>...</td>\n",
       "      <td>...</td>\n",
       "      <td>...</td>\n",
       "      <td>...</td>\n",
       "    </tr>\n",
       "    <tr>\n",
       "      <th>2018-12-24</th>\n",
       "      <td>0.788467</td>\n",
       "      <td>0.806776</td>\n",
       "      <td>0.705931</td>\n",
       "      <td>0.682035</td>\n",
       "      <td>0.868771</td>\n",
       "      <td>1.068807</td>\n",
       "      <td>1.048877</td>\n",
       "      <td>0.961591</td>\n",
       "      <td>0.934262</td>\n",
       "      <td>0.934262</td>\n",
       "      <td>...</td>\n",
       "      <td>0.824811</td>\n",
       "      <td>0.882419</td>\n",
       "      <td>0.838128</td>\n",
       "      <td>0.852968</td>\n",
       "      <td>-1.025948</td>\n",
       "      <td>-1.104630</td>\n",
       "      <td>-1.114316</td>\n",
       "      <td>-1.110281</td>\n",
       "      <td>-1.121580</td>\n",
       "      <td>-1.121580</td>\n",
       "    </tr>\n",
       "    <tr>\n",
       "      <th>2018-12-26</th>\n",
       "      <td>0.718407</td>\n",
       "      <td>0.928245</td>\n",
       "      <td>0.694235</td>\n",
       "      <td>0.952576</td>\n",
       "      <td>1.112894</td>\n",
       "      <td>0.950629</td>\n",
       "      <td>1.186923</td>\n",
       "      <td>0.940987</td>\n",
       "      <td>1.213981</td>\n",
       "      <td>1.213981</td>\n",
       "      <td>...</td>\n",
       "      <td>0.899473</td>\n",
       "      <td>0.837198</td>\n",
       "      <td>0.865885</td>\n",
       "      <td>0.873084</td>\n",
       "      <td>0.974709</td>\n",
       "      <td>-1.125632</td>\n",
       "      <td>-1.079459</td>\n",
       "      <td>-1.114678</td>\n",
       "      <td>-1.068209</td>\n",
       "      <td>-1.068209</td>\n",
       "    </tr>\n",
       "    <tr>\n",
       "      <th>2018-12-27</th>\n",
       "      <td>0.869026</td>\n",
       "      <td>0.976241</td>\n",
       "      <td>0.813484</td>\n",
       "      <td>0.995762</td>\n",
       "      <td>1.151864</td>\n",
       "      <td>1.148985</td>\n",
       "      <td>1.253499</td>\n",
       "      <td>1.084487</td>\n",
       "      <td>1.281028</td>\n",
       "      <td>1.281028</td>\n",
       "      <td>...</td>\n",
       "      <td>0.824013</td>\n",
       "      <td>0.885080</td>\n",
       "      <td>0.845398</td>\n",
       "      <td>0.861685</td>\n",
       "      <td>-1.025948</td>\n",
       "      <td>-1.095880</td>\n",
       "      <td>-1.102988</td>\n",
       "      <td>-1.102366</td>\n",
       "      <td>-1.092707</td>\n",
       "      <td>-1.092707</td>\n",
       "    </tr>\n",
       "    <tr>\n",
       "      <th>2018-12-28</th>\n",
       "      <td>1.029001</td>\n",
       "      <td>1.046984</td>\n",
       "      <td>0.985248</td>\n",
       "      <td>0.988450</td>\n",
       "      <td>1.145266</td>\n",
       "      <td>1.299308</td>\n",
       "      <td>1.315726</td>\n",
       "      <td>1.269111</td>\n",
       "      <td>1.261350</td>\n",
       "      <td>1.261350</td>\n",
       "      <td>...</td>\n",
       "      <td>0.819222</td>\n",
       "      <td>0.826558</td>\n",
       "      <td>0.786580</td>\n",
       "      <td>0.835535</td>\n",
       "      <td>-1.025948</td>\n",
       "      <td>-1.100255</td>\n",
       "      <td>-1.102988</td>\n",
       "      <td>-1.101486</td>\n",
       "      <td>-1.100582</td>\n",
       "      <td>-1.100582</td>\n",
       "    </tr>\n",
       "    <tr>\n",
       "      <th>2018-12-31</th>\n",
       "      <td>1.028545</td>\n",
       "      <td>1.019461</td>\n",
       "      <td>1.008640</td>\n",
       "      <td>1.038034</td>\n",
       "      <td>1.190008</td>\n",
       "      <td>1.283963</td>\n",
       "      <td>1.303255</td>\n",
       "      <td>1.304533</td>\n",
       "      <td>1.329605</td>\n",
       "      <td>1.329605</td>\n",
       "      <td>...</td>\n",
       "      <td>0.788612</td>\n",
       "      <td>0.819243</td>\n",
       "      <td>0.789223</td>\n",
       "      <td>0.814750</td>\n",
       "      <td>-1.025948</td>\n",
       "      <td>-1.092380</td>\n",
       "      <td>-1.097759</td>\n",
       "      <td>-1.096210</td>\n",
       "      <td>-1.089207</td>\n",
       "      <td>-1.089207</td>\n",
       "    </tr>\n",
       "  </tbody>\n",
       "</table>\n",
       "<p>1718 rows × 47 columns</p>\n",
       "</div>"
      ],
      "text/plain": [
       "             SP_open   SP_high    SP_low  SP_close  SP_Ajclose   DJ_open  \\\n",
       "Date                                                                       \n",
       "2011-12-15 -1.859004 -1.869181 -1.868930 -1.880786   -1.788933 -1.629320   \n",
       "2011-12-16 -1.877261 -1.874868 -1.884753 -1.894268   -1.785710 -1.617758   \n",
       "2011-12-19 -1.881141 -1.889198 -1.913878 -1.923972   -1.808989 -1.618712   \n",
       "2011-12-20 -1.878402 -1.847799 -1.906081 -1.840800   -1.743809 -1.643741   \n",
       "2011-12-21 -1.838465 -1.842794 -1.851501 -1.835316   -1.739510 -1.557754   \n",
       "...              ...       ...       ...       ...         ...       ...   \n",
       "2018-12-24  0.788467  0.806776  0.705931  0.682035    0.868771  1.068807   \n",
       "2018-12-26  0.718407  0.928245  0.694235  0.952576    1.112894  0.950629   \n",
       "2018-12-27  0.869026  0.976241  0.813484  0.995762    1.151864  1.148985   \n",
       "2018-12-28  1.029001  1.046984  0.985248  0.988450    1.145266  1.299308   \n",
       "2018-12-31  1.028545  1.019461  1.008640  1.038034    1.190008  1.283963   \n",
       "\n",
       "             DJ_high    DJ_low  DJ_close  DJ_Ajclose  ...  USDI_Price  \\\n",
       "Date                                                  ...               \n",
       "2011-12-15 -1.607299 -1.615966 -1.621096   -1.621096  ...   -1.260117   \n",
       "2011-12-16 -1.607212 -1.617494 -1.621720   -1.621720  ...   -1.272361   \n",
       "2011-12-19 -1.618045 -1.639248 -1.647504   -1.647504  ...   -1.277950   \n",
       "2011-12-20 -1.569068 -1.630548 -1.560641   -1.560641  ...   -1.269167   \n",
       "2011-12-21 -1.568409 -1.570910 -1.559570   -1.559570  ...   -1.258919   \n",
       "...              ...       ...       ...         ...  ...         ...   \n",
       "2018-12-24  1.048877  0.961591  0.934262    0.934262  ...    0.824811   \n",
       "2018-12-26  1.186923  0.940987  1.213981    1.213981  ...    0.899473   \n",
       "2018-12-27  1.253499  1.084487  1.281028    1.281028  ...    0.824013   \n",
       "2018-12-28  1.315726  1.269111  1.261350    1.261350  ...    0.819222   \n",
       "2018-12-31  1.303255  1.304533  1.329605    1.329605  ...    0.788612   \n",
       "\n",
       "            USDI_Open  USDI_High  USDI_Low  USDI_Trend  USO_Open  USO_High  \\\n",
       "Date                                                                         \n",
       "2011-12-15  -1.229011  -1.251568 -1.257772   -1.025948  1.293922  1.275157   \n",
       "2011-12-16  -1.280883  -1.282630 -1.283922   -1.025948  1.230917  1.236814   \n",
       "2011-12-19  -1.264257  -1.272717 -1.258443   -1.025948  1.249293  1.232457   \n",
       "2011-12-20  -1.185785  -1.210594 -1.270512    0.974709  1.328924  1.333544   \n",
       "2011-12-21  -1.290193  -1.276021 -1.335550    0.974709  1.361301  1.388444   \n",
       "...               ...        ...       ...         ...       ...       ...   \n",
       "2018-12-24   0.882419   0.838128  0.852968   -1.025948 -1.104630 -1.114316   \n",
       "2018-12-26   0.837198   0.865885  0.873084    0.974709 -1.125632 -1.079459   \n",
       "2018-12-27   0.885080   0.845398  0.861685   -1.025948 -1.095880 -1.102988   \n",
       "2018-12-28   0.826558   0.786580  0.835535   -1.025948 -1.100255 -1.102988   \n",
       "2018-12-31   0.819243   0.789223  0.814750   -1.025948 -1.092380 -1.097759   \n",
       "\n",
       "             USO_Low  USO_Close  USO_Adj Close  \n",
       "Date                                            \n",
       "2011-12-15  1.244018   1.226738       1.226738  \n",
       "2011-12-16  1.215876   1.238987       1.238987  \n",
       "2011-12-19  1.233465   1.232862       1.232862  \n",
       "2011-12-20  1.346915   1.351853       1.351853  \n",
       "2011-12-21  1.373298   1.399974       1.399974  \n",
       "...              ...        ...            ...  \n",
       "2018-12-24 -1.110281  -1.121580      -1.121580  \n",
       "2018-12-26 -1.114678  -1.068209      -1.068209  \n",
       "2018-12-27 -1.102366  -1.092707      -1.092707  \n",
       "2018-12-28 -1.101486  -1.100582      -1.100582  \n",
       "2018-12-31 -1.096210  -1.089207      -1.089207  \n",
       "\n",
       "[1718 rows x 47 columns]"
      ]
     },
     "execution_count": 24,
     "metadata": {},
     "output_type": "execute_result"
    }
   ],
   "source": [
    "X"
   ]
  },
  {
   "cell_type": "markdown",
   "id": "f3be21e5",
   "metadata": {},
   "source": [
    "* Division du Dataset en Train et Test"
   ]
  },
  {
   "cell_type": "code",
   "execution_count": 25,
   "id": "f8498a48",
   "metadata": {},
   "outputs": [],
   "source": [
    "X_train,X_test,y_train,y_test = train_test_split(X,y,test_size=.3,random_state=5)"
   ]
  },
  {
   "cell_type": "code",
   "execution_count": 26,
   "id": "9651a946",
   "metadata": {},
   "outputs": [
    {
     "data": {
      "text/plain": [
       "(516, 47)"
      ]
     },
     "execution_count": 26,
     "metadata": {},
     "output_type": "execute_result"
    }
   ],
   "source": [
    "X_test.shape"
   ]
  },
  {
   "cell_type": "markdown",
   "id": "afd0e47b",
   "metadata": {},
   "source": [
    "* Modèlisation avec l'Algorithme de Regression linèaire."
   ]
  },
  {
   "cell_type": "code",
   "execution_count": 27,
   "id": "2a64491c",
   "metadata": {},
   "outputs": [],
   "source": [
    "model = LinearRegression()"
   ]
  },
  {
   "cell_type": "code",
   "execution_count": 28,
   "id": "5d3fded7",
   "metadata": {},
   "outputs": [
    {
     "data": {
      "text/plain": [
       "LinearRegression()"
      ]
     },
     "execution_count": 28,
     "metadata": {},
     "output_type": "execute_result"
    }
   ],
   "source": [
    "model.fit(X_train, y_train)"
   ]
  },
  {
   "cell_type": "code",
   "execution_count": 30,
   "id": "517c9785",
   "metadata": {},
   "outputs": [
    {
     "name": "stdout",
     "output_type": "stream",
     "text": [
      "Le score à l'entrenement est:0.9726821328699942\n",
      "Le score du modèle sur le jeu de test 0.9661674658245912\n"
     ]
    }
   ],
   "source": [
    "train_score = model.score(X_train,y_train)\n",
    "test_score = model.score(X_test, y_test)\n",
    "print(f'Le score à l\\'entrenement est:{train_score}')\n",
    "print(f'Le score du modèle sur le jeu de test {test_score}')"
   ]
  },
  {
   "cell_type": "markdown",
   "id": "4be5d57f",
   "metadata": {},
   "source": [
    "* Tracer du Graphe des prédictions et des valeurs réels "
   ]
  },
  {
   "cell_type": "code",
   "execution_count": 31,
   "id": "d77442a7",
   "metadata": {},
   "outputs": [],
   "source": [
    "y_pred = model.predict(X_test)"
   ]
  },
  {
   "cell_type": "code",
   "execution_count": 32,
   "id": "fbe78edf",
   "metadata": {},
   "outputs": [],
   "source": [
    "y_pred =list(y_pred)"
   ]
  },
  {
   "cell_type": "code",
   "execution_count": 41,
   "id": "db855d90",
   "metadata": {},
   "outputs": [],
   "source": [
    "predict_df = pd.DataFrame(y_pred,index=y_test.index,columns=['Prediction'])\n",
    "test = pd.DataFrame(y_test)"
   ]
  },
  {
   "cell_type": "code",
   "execution_count": 43,
   "id": "92a74378",
   "metadata": {},
   "outputs": [],
   "source": [
    "predicts = pd.concat([test,predict_df],axis=1)"
   ]
  },
  {
   "cell_type": "code",
   "execution_count": 46,
   "id": "67401b85",
   "metadata": {},
   "outputs": [
    {
     "data": {
      "image/png": "[encoded data removed]",
      "text/plain": [
       "<Figure size 1080x432 with 1 Axes>"
      ]
     },
     "metadata": {},
     "output_type": "display_data"
    }
   ],
   "source": [
    "plt.figure(figsize=(15,6))\n",
    "predicts['Adj Close'].plot()\n",
    "predicts['Prediction'].plot()\n",
    "plt.legend()\n",
    "plt.show()"
   ]
  },
  {
   "cell_type": "markdown",
   "id": "8cd1c907",
   "metadata": {},
   "source": [
    "* Tracer de la courbe d'apprentissage"
   ]
  },
  {
   "cell_type": "code",
   "execution_count": 47,
   "id": "c2b5a260",
   "metadata": {
    "scrolled": false
   },
   "outputs": [
    {
     "data": {
      "image/png": "[encoded data removed]",
      "text/plain": [
       "<Figure size 864x576 with 1 Axes>"
      ]
     },
     "metadata": {},
     "output_type": "display_data"
    }
   ],
   "source": [
    "var, train_score, val_score = learning_curve(model,X_train, y_train, train_sizes=np.linspace(0.1,1.0,10), cv=5)\n",
    "plt.figure(figsize=(12,8))\n",
    "plt.title('Courbe de Validation de la Regression Linear')\n",
    "plt.plot(var, train_score.mean(axis = 1), label = 'Train')\n",
    "plt.plot(var, val_score.mean(axis = 1), label = 'Validation')\n",
    "plt.xlabel('Train_size')\n",
    "plt.legend()\n",
    "plt.show()"
   ]
  },
  {
   "cell_type": "markdown",
   "id": "ca2b0805",
   "metadata": {},
   "source": [
    "* Création du model avec l'algorithme de GradientBoostingRegressor"
   ]
  },
  {
   "cell_type": "code",
   "execution_count": 48,
   "id": "02548071",
   "metadata": {},
   "outputs": [],
   "source": [
    "G_model = GradientBoostingRegressor()"
   ]
  },
  {
   "cell_type": "code",
   "execution_count": 49,
   "id": "0f7365a7",
   "metadata": {},
   "outputs": [
    {
     "data": {
      "text/plain": [
       "GradientBoostingRegressor()"
      ]
     },
     "execution_count": 49,
     "metadata": {},
     "output_type": "execute_result"
    }
   ],
   "source": [
    "G_model.fit(X_test,y_test)"
   ]
  },
  {
   "cell_type": "code",
   "execution_count": 55,
   "id": "e6c090f7",
   "metadata": {},
   "outputs": [
    {
     "name": "stdout",
     "output_type": "stream",
     "text": [
      "Le score à l'entrainement avec le DradientboostRegressor est :0.9824596942066385\n",
      "Le Score sur les données de test avec le DradientboostRegressor est :0.9960958980756697\n"
     ]
    }
   ],
   "source": [
    "train_score = G_model.score(X_train,y_train)\n",
    "test_score = G_model.score(X_test, y_test)\n",
    "print(f'Le score à l\\'entrainement avec le DradientboostRegressor est :{train_score}')\n",
    "print(f'Le Score sur les données de test avec le DradientboostRegressor est :{test_score}')"
   ]
  },
  {
   "cell_type": "markdown",
   "id": "68f55344",
   "metadata": {},
   "source": [
    "* Tracer du Graphe des prédictions et des valeurs réels "
   ]
  },
  {
   "cell_type": "code",
   "execution_count": 51,
   "id": "cd98d35a",
   "metadata": {},
   "outputs": [],
   "source": [
    "y_pred = G_model.predict(X_test)"
   ]
  },
  {
   "cell_type": "code",
   "execution_count": 52,
   "id": "ef2459f8",
   "metadata": {},
   "outputs": [],
   "source": [
    "predict_df = pd.DataFrame(y_pred,index=y_test.index,columns=['Prediction'])\n",
    "test = pd.DataFrame(y_test)"
   ]
  },
  {
   "cell_type": "code",
   "execution_count": 53,
   "id": "da2f1e8e",
   "metadata": {},
   "outputs": [],
   "source": [
    "predicts = pd.concat([test,predict_df],axis=1)"
   ]
  },
  {
   "cell_type": "code",
   "execution_count": 54,
   "id": "19f900c0",
   "metadata": {
    "scrolled": true
   },
   "outputs": [
    {
     "data": {
      "image/png": "[encoded data removed]",
      "text/plain": [
       "<Figure size 1080x432 with 1 Axes>"
      ]
     },
     "metadata": {},
     "output_type": "display_data"
    }
   ],
   "source": [
    "plt.figure(figsize=(15,6))\n",
    "predicts['Adj Close'].plot()\n",
    "predicts['Prediction'].plot()\n",
    "plt.legend()\n",
    "plt.show()"
   ]
  },
  {
   "cell_type": "markdown",
   "id": "133eebff",
   "metadata": {},
   "source": [
    "* Tracer de learning du DradientboostRegressor"
   ]
  },
  {
   "cell_type": "code",
   "execution_count": 56,
   "id": "ffe14c95",
   "metadata": {},
   "outputs": [
    {
     "data": {
      "image/png": "[encoded data removed]",
      "text/plain": [
       "<Figure size 864x576 with 1 Axes>"
      ]
     },
     "metadata": {},
     "output_type": "display_data"
    }
   ],
   "source": [
    "var, train_score, val_score = learning_curve(G_model,X_train, y_train, train_sizes=np.linspace(0.1,1.0,10), cv=5)\n",
    "plt.figure(figsize=(12,8))\n",
    "plt.title('Courbe de Validation du DradientboostRegressor')\n",
    "plt.plot(var, train_score.mean(axis = 1), label = 'Train')\n",
    "plt.plot(var, val_score.mean(axis = 1), label = 'Validation')\n",
    "plt.xlabel('Train_size')\n",
    "plt.legend()\n",
    "plt.show()"
   ]
  },
  {
   "cell_type": "markdown",
   "id": "e0229efa",
   "metadata": {},
   "source": [
    "# Creation du modèle avec les valeurs Aberrantes"
   ]
  },
  {
   "cell_type": "code",
   "execution_count": 59,
   "id": "97a9f37c",
   "metadata": {},
   "outputs": [],
   "source": [
    "Yo = df['Adj Close']\n",
    "Xo = df.drop('Adj Close', axis=1)"
   ]
  },
  {
   "cell_type": "code",
   "execution_count": 60,
   "id": "62424321",
   "metadata": {},
   "outputs": [],
   "source": [
    "rbs_normalizer = RobustScaler()\n",
    "rbs_normalizer.fit(Xo)\n",
    "Xo[Xo.columns] = rbs_normalizer.transform(Xo)"
   ]
  },
  {
   "cell_type": "code",
   "execution_count": 61,
   "id": "09a8ed1f",
   "metadata": {
    "scrolled": true
   },
   "outputs": [
    {
     "data": {
      "text/html": [
       "<div>\n",
       "<style scoped>\n",
       "    .dataframe tbody tr th:only-of-type {\n",
       "        vertical-align: middle;\n",
       "    }\n",
       "\n",
       "    .dataframe tbody tr th {\n",
       "        vertical-align: top;\n",
       "    }\n",
       "\n",
       "    .dataframe thead th {\n",
       "        text-align: right;\n",
       "    }\n",
       "</style>\n",
       "<table border=\"1\" class=\"dataframe\">\n",
       "  <thead>\n",
       "    <tr style=\"text-align: right;\">\n",
       "      <th></th>\n",
       "      <th>Open</th>\n",
       "      <th>High</th>\n",
       "      <th>Low</th>\n",
       "      <th>Close</th>\n",
       "      <th>Volume</th>\n",
       "      <th>SP_open</th>\n",
       "      <th>SP_high</th>\n",
       "      <th>SP_low</th>\n",
       "      <th>SP_close</th>\n",
       "      <th>SP_Ajclose</th>\n",
       "      <th>...</th>\n",
       "      <th>GDX_Low</th>\n",
       "      <th>GDX_Close</th>\n",
       "      <th>GDX_Adj Close</th>\n",
       "      <th>GDX_Volume</th>\n",
       "      <th>USO_Open</th>\n",
       "      <th>USO_High</th>\n",
       "      <th>USO_Low</th>\n",
       "      <th>USO_Close</th>\n",
       "      <th>USO_Adj Close</th>\n",
       "      <th>USO_Volume</th>\n",
       "    </tr>\n",
       "    <tr>\n",
       "      <th>Date</th>\n",
       "      <th></th>\n",
       "      <th></th>\n",
       "      <th></th>\n",
       "      <th></th>\n",
       "      <th></th>\n",
       "      <th></th>\n",
       "      <th></th>\n",
       "      <th></th>\n",
       "      <th></th>\n",
       "      <th></th>\n",
       "      <th></th>\n",
       "      <th></th>\n",
       "      <th></th>\n",
       "      <th></th>\n",
       "      <th></th>\n",
       "      <th></th>\n",
       "      <th></th>\n",
       "      <th></th>\n",
       "      <th></th>\n",
       "      <th></th>\n",
       "      <th></th>\n",
       "    </tr>\n",
       "  </thead>\n",
       "  <tbody>\n",
       "    <tr>\n",
       "      <th>2011-12-15</th>\n",
       "      <td>2.688923</td>\n",
       "      <td>2.600120</td>\n",
       "      <td>2.507438</td>\n",
       "      <td>2.459030</td>\n",
       "      <td>2.927618</td>\n",
       "      <td>-1.232212</td>\n",
       "      <td>-1.247154</td>\n",
       "      <td>-1.238396</td>\n",
       "      <td>-1.253525</td>\n",
       "      <td>-1.139031</td>\n",
       "      <td>...</td>\n",
       "      <td>4.454793</td>\n",
       "      <td>4.251764</td>\n",
       "      <td>4.175865</td>\n",
       "      <td>-0.485849</td>\n",
       "      <td>0.889131</td>\n",
       "      <td>0.876443</td>\n",
       "      <td>0.877247</td>\n",
       "      <td>0.859283</td>\n",
       "      <td>0.859283</td>\n",
       "      <td>-0.171436</td>\n",
       "    </tr>\n",
       "    <tr>\n",
       "      <th>2011-12-16</th>\n",
       "      <td>2.653698</td>\n",
       "      <td>2.633593</td>\n",
       "      <td>2.688429</td>\n",
       "      <td>2.692571</td>\n",
       "      <td>2.219050</td>\n",
       "      <td>-1.244170</td>\n",
       "      <td>-1.250899</td>\n",
       "      <td>-1.248761</td>\n",
       "      <td>-1.262398</td>\n",
       "      <td>-1.136966</td>\n",
       "      <td>...</td>\n",
       "      <td>4.527746</td>\n",
       "      <td>4.400297</td>\n",
       "      <td>4.326350</td>\n",
       "      <td>-0.611542</td>\n",
       "      <td>0.857826</td>\n",
       "      <td>0.857451</td>\n",
       "      <td>0.863218</td>\n",
       "      <td>0.865364</td>\n",
       "      <td>0.865364</td>\n",
       "      <td>-0.173285</td>\n",
       "    </tr>\n",
       "    <tr>\n",
       "      <th>2011-12-19</th>\n",
       "      <td>2.749540</td>\n",
       "      <td>2.672645</td>\n",
       "      <td>2.726446</td>\n",
       "      <td>2.663579</td>\n",
       "      <td>1.055949</td>\n",
       "      <td>-1.246711</td>\n",
       "      <td>-1.260336</td>\n",
       "      <td>-1.267838</td>\n",
       "      <td>-1.281949</td>\n",
       "      <td>-1.151881</td>\n",
       "      <td>...</td>\n",
       "      <td>4.370974</td>\n",
       "      <td>4.176012</td>\n",
       "      <td>4.099116</td>\n",
       "      <td>-0.645443</td>\n",
       "      <td>0.866957</td>\n",
       "      <td>0.855293</td>\n",
       "      <td>0.871986</td>\n",
       "      <td>0.862324</td>\n",
       "      <td>0.862324</td>\n",
       "      <td>-0.425092</td>\n",
       "    </tr>\n",
       "    <tr>\n",
       "      <th>2011-12-20</th>\n",
       "      <td>2.859310</td>\n",
       "      <td>2.797769</td>\n",
       "      <td>2.909917</td>\n",
       "      <td>2.833501</td>\n",
       "      <td>0.344607</td>\n",
       "      <td>-1.244918</td>\n",
       "      <td>-1.233074</td>\n",
       "      <td>-1.262731</td>\n",
       "      <td>-1.227206</td>\n",
       "      <td>-1.110117</td>\n",
       "      <td>...</td>\n",
       "      <td>4.578968</td>\n",
       "      <td>4.446343</td>\n",
       "      <td>4.373001</td>\n",
       "      <td>-0.746555</td>\n",
       "      <td>0.906522</td>\n",
       "      <td>0.905363</td>\n",
       "      <td>0.928540</td>\n",
       "      <td>0.921390</td>\n",
       "      <td>0.921390</td>\n",
       "      <td>-0.297086</td>\n",
       "    </tr>\n",
       "    <tr>\n",
       "      <th>2011-12-21</th>\n",
       "      <td>2.872416</td>\n",
       "      <td>2.805739</td>\n",
       "      <td>2.872727</td>\n",
       "      <td>2.847997</td>\n",
       "      <td>0.941017</td>\n",
       "      <td>-1.218759</td>\n",
       "      <td>-1.229778</td>\n",
       "      <td>-1.226979</td>\n",
       "      <td>-1.223597</td>\n",
       "      <td>-1.107363</td>\n",
       "      <td>...</td>\n",
       "      <td>4.586729</td>\n",
       "      <td>4.441887</td>\n",
       "      <td>4.368486</td>\n",
       "      <td>-0.831528</td>\n",
       "      <td>0.922609</td>\n",
       "      <td>0.932557</td>\n",
       "      <td>0.941692</td>\n",
       "      <td>0.945277</td>\n",
       "      <td>0.945277</td>\n",
       "      <td>-0.263593</td>\n",
       "    </tr>\n",
       "    <tr>\n",
       "      <th>...</th>\n",
       "      <td>...</td>\n",
       "      <td>...</td>\n",
       "      <td>...</td>\n",
       "      <td>...</td>\n",
       "      <td>...</td>\n",
       "      <td>...</td>\n",
       "      <td>...</td>\n",
       "      <td>...</td>\n",
       "      <td>...</td>\n",
       "      <td>...</td>\n",
       "      <td>...</td>\n",
       "      <td>...</td>\n",
       "      <td>...</td>\n",
       "      <td>...</td>\n",
       "      <td>...</td>\n",
       "      <td>...</td>\n",
       "      <td>...</td>\n",
       "      <td>...</td>\n",
       "      <td>...</td>\n",
       "      <td>...</td>\n",
       "      <td>...</td>\n",
       "    </tr>\n",
       "    <tr>\n",
       "      <th>2018-12-24</th>\n",
       "      <td>-0.192095</td>\n",
       "      <td>-0.174138</td>\n",
       "      <td>-0.148760</td>\n",
       "      <td>-0.142944</td>\n",
       "      <td>0.469758</td>\n",
       "      <td>0.501868</td>\n",
       "      <td>0.514979</td>\n",
       "      <td>0.448250</td>\n",
       "      <td>0.433282</td>\n",
       "      <td>0.563876</td>\n",
       "      <td>...</td>\n",
       "      <td>-0.344587</td>\n",
       "      <td>-0.291868</td>\n",
       "      <td>-0.252112</td>\n",
       "      <td>0.675058</td>\n",
       "      <td>-0.302609</td>\n",
       "      <td>-0.307111</td>\n",
       "      <td>-0.296361</td>\n",
       "      <td>-0.306406</td>\n",
       "      <td>-0.306406</td>\n",
       "      <td>0.266809</td>\n",
       "    </tr>\n",
       "    <tr>\n",
       "      <th>2018-12-26</th>\n",
       "      <td>-0.106082</td>\n",
       "      <td>-0.105599</td>\n",
       "      <td>-0.148760</td>\n",
       "      <td>-0.171935</td>\n",
       "      <td>1.420139</td>\n",
       "      <td>0.455979</td>\n",
       "      <td>0.594967</td>\n",
       "      <td>0.440589</td>\n",
       "      <td>0.611347</td>\n",
       "      <td>0.720296</td>\n",
       "      <td>...</td>\n",
       "      <td>-0.363213</td>\n",
       "      <td>-0.361678</td>\n",
       "      <td>-0.326749</td>\n",
       "      <td>1.136443</td>\n",
       "      <td>-0.313044</td>\n",
       "      <td>-0.289846</td>\n",
       "      <td>-0.298553</td>\n",
       "      <td>-0.279913</td>\n",
       "      <td>-0.279913</td>\n",
       "      <td>1.212469</td>\n",
       "    </tr>\n",
       "    <tr>\n",
       "      <th>2018-12-27</th>\n",
       "      <td>-0.110178</td>\n",
       "      <td>-0.113568</td>\n",
       "      <td>-0.101653</td>\n",
       "      <td>-0.098651</td>\n",
       "      <td>0.915637</td>\n",
       "      <td>0.554634</td>\n",
       "      <td>0.626573</td>\n",
       "      <td>0.518702</td>\n",
       "      <td>0.639772</td>\n",
       "      <td>0.745265</td>\n",
       "      <td>...</td>\n",
       "      <td>-0.336826</td>\n",
       "      <td>-0.309692</td>\n",
       "      <td>-0.271169</td>\n",
       "      <td>0.438986</td>\n",
       "      <td>-0.298261</td>\n",
       "      <td>-0.301500</td>\n",
       "      <td>-0.292416</td>\n",
       "      <td>-0.292074</td>\n",
       "      <td>-0.292074</td>\n",
       "      <td>0.997770</td>\n",
       "    </tr>\n",
       "    <tr>\n",
       "      <th>2018-12-28</th>\n",
       "      <td>-0.091337</td>\n",
       "      <td>-0.099223</td>\n",
       "      <td>-0.053719</td>\n",
       "      <td>-0.059191</td>\n",
       "      <td>-0.129134</td>\n",
       "      <td>0.659417</td>\n",
       "      <td>0.673158</td>\n",
       "      <td>0.631215</td>\n",
       "      <td>0.634959</td>\n",
       "      <td>0.741038</td>\n",
       "      <td>...</td>\n",
       "      <td>-0.357004</td>\n",
       "      <td>-0.364649</td>\n",
       "      <td>-0.329925</td>\n",
       "      <td>0.364563</td>\n",
       "      <td>-0.300435</td>\n",
       "      <td>-0.301500</td>\n",
       "      <td>-0.291977</td>\n",
       "      <td>-0.295983</td>\n",
       "      <td>-0.295983</td>\n",
       "      <td>0.325616</td>\n",
       "    </tr>\n",
       "    <tr>\n",
       "      <th>2018-12-31</th>\n",
       "      <td>-0.076592</td>\n",
       "      <td>-0.084877</td>\n",
       "      <td>-0.044628</td>\n",
       "      <td>-0.043890</td>\n",
       "      <td>0.201355</td>\n",
       "      <td>0.659118</td>\n",
       "      <td>0.655033</td>\n",
       "      <td>0.646537</td>\n",
       "      <td>0.667594</td>\n",
       "      <td>0.769706</td>\n",
       "      <td>...</td>\n",
       "      <td>-0.358557</td>\n",
       "      <td>-0.291868</td>\n",
       "      <td>-0.252112</td>\n",
       "      <td>0.481860</td>\n",
       "      <td>-0.296522</td>\n",
       "      <td>-0.298910</td>\n",
       "      <td>-0.289347</td>\n",
       "      <td>-0.290337</td>\n",
       "      <td>-0.290337</td>\n",
       "      <td>0.599546</td>\n",
       "    </tr>\n",
       "  </tbody>\n",
       "</table>\n",
       "<p>1718 rows × 79 columns</p>\n",
       "</div>"
      ],
      "text/plain": [
       "                Open      High       Low     Close    Volume   SP_open  \\\n",
       "Date                                                                     \n",
       "2011-12-15  2.688923  2.600120  2.507438  2.459030  2.927618 -1.232212   \n",
       "2011-12-16  2.653698  2.633593  2.688429  2.692571  2.219050 -1.244170   \n",
       "2011-12-19  2.749540  2.672645  2.726446  2.663579  1.055949 -1.246711   \n",
       "2011-12-20  2.859310  2.797769  2.909917  2.833501  0.344607 -1.244918   \n",
       "2011-12-21  2.872416  2.805739  2.872727  2.847997  0.941017 -1.218759   \n",
       "...              ...       ...       ...       ...       ...       ...   \n",
       "2018-12-24 -0.192095 -0.174138 -0.148760 -0.142944  0.469758  0.501868   \n",
       "2018-12-26 -0.106082 -0.105599 -0.148760 -0.171935  1.420139  0.455979   \n",
       "2018-12-27 -0.110178 -0.113568 -0.101653 -0.098651  0.915637  0.554634   \n",
       "2018-12-28 -0.091337 -0.099223 -0.053719 -0.059191 -0.129134  0.659417   \n",
       "2018-12-31 -0.076592 -0.084877 -0.044628 -0.043890  0.201355  0.659118   \n",
       "\n",
       "             SP_high    SP_low  SP_close  SP_Ajclose  ...   GDX_Low  \\\n",
       "Date                                                  ...             \n",
       "2011-12-15 -1.247154 -1.238396 -1.253525   -1.139031  ...  4.454793   \n",
       "2011-12-16 -1.250899 -1.248761 -1.262398   -1.136966  ...  4.527746   \n",
       "2011-12-19 -1.260336 -1.267838 -1.281949   -1.151881  ...  4.370974   \n",
       "2011-12-20 -1.233074 -1.262731 -1.227206   -1.110117  ...  4.578968   \n",
       "2011-12-21 -1.229778 -1.226979 -1.223597   -1.107363  ...  4.586729   \n",
       "...              ...       ...       ...         ...  ...       ...   \n",
       "2018-12-24  0.514979  0.448250  0.433282    0.563876  ... -0.344587   \n",
       "2018-12-26  0.594967  0.440589  0.611347    0.720296  ... -0.363213   \n",
       "2018-12-27  0.626573  0.518702  0.639772    0.745265  ... -0.336826   \n",
       "2018-12-28  0.673158  0.631215  0.634959    0.741038  ... -0.357004   \n",
       "2018-12-31  0.655033  0.646537  0.667594    0.769706  ... -0.358557   \n",
       "\n",
       "            GDX_Close  GDX_Adj Close  GDX_Volume  USO_Open  USO_High  \\\n",
       "Date                                                                   \n",
       "2011-12-15   4.251764       4.175865   -0.485849  0.889131  0.876443   \n",
       "2011-12-16   4.400297       4.326350   -0.611542  0.857826  0.857451   \n",
       "2011-12-19   4.176012       4.099116   -0.645443  0.866957  0.855293   \n",
       "2011-12-20   4.446343       4.373001   -0.746555  0.906522  0.905363   \n",
       "2011-12-21   4.441887       4.368486   -0.831528  0.922609  0.932557   \n",
       "...               ...            ...         ...       ...       ...   \n",
       "2018-12-24  -0.291868      -0.252112    0.675058 -0.302609 -0.307111   \n",
       "2018-12-26  -0.361678      -0.326749    1.136443 -0.313044 -0.289846   \n",
       "2018-12-27  -0.309692      -0.271169    0.438986 -0.298261 -0.301500   \n",
       "2018-12-28  -0.364649      -0.329925    0.364563 -0.300435 -0.301500   \n",
       "2018-12-31  -0.291868      -0.252112    0.481860 -0.296522 -0.298910   \n",
       "\n",
       "             USO_Low  USO_Close  USO_Adj Close  USO_Volume  \n",
       "Date                                                        \n",
       "2011-12-15  0.877247   0.859283       0.859283   -0.171436  \n",
       "2011-12-16  0.863218   0.865364       0.865364   -0.173285  \n",
       "2011-12-19  0.871986   0.862324       0.862324   -0.425092  \n",
       "2011-12-20  0.928540   0.921390       0.921390   -0.297086  \n",
       "2011-12-21  0.941692   0.945277       0.945277   -0.263593  \n",
       "...              ...        ...            ...         ...  \n",
       "2018-12-24 -0.296361  -0.306406      -0.306406    0.266809  \n",
       "2018-12-26 -0.298553  -0.279913      -0.279913    1.212469  \n",
       "2018-12-27 -0.292416  -0.292074      -0.292074    0.997770  \n",
       "2018-12-28 -0.291977  -0.295983      -0.295983    0.325616  \n",
       "2018-12-31 -0.289347  -0.290337      -0.290337    0.599546  \n",
       "\n",
       "[1718 rows x 79 columns]"
      ]
     },
     "execution_count": 61,
     "metadata": {},
     "output_type": "execute_result"
    }
   ],
   "source": [
    "Xo"
   ]
  },
  {
   "cell_type": "code",
   "execution_count": 62,
   "id": "05f4a30a",
   "metadata": {},
   "outputs": [],
   "source": [
    "Xo_train,Xo_test,Yo_train,Yo_test = train_test_split(Xo,Yo,train_size=.3,random_state=5)"
   ]
  },
  {
   "cell_type": "markdown",
   "id": "bdd7e199",
   "metadata": {},
   "source": [
    "* Modèle de Regression Linéaire"
   ]
  },
  {
   "cell_type": "code",
   "execution_count": 63,
   "id": "01afd683",
   "metadata": {},
   "outputs": [
    {
     "data": {
      "text/plain": [
       "LinearRegression()"
      ]
     },
     "execution_count": 63,
     "metadata": {},
     "output_type": "execute_result"
    }
   ],
   "source": [
    "model.fit(Xo_train,Yo_train)"
   ]
  },
  {
   "cell_type": "code",
   "execution_count": 66,
   "id": "0a126447",
   "metadata": {},
   "outputs": [
    {
     "name": "stdout",
     "output_type": "stream",
     "text": [
      "Le score à l'entrenement est:1.0\n",
      "Le score du modèle sur le jeu de test 1.0\n"
     ]
    }
   ],
   "source": [
    "train_score = model.score(Xo_train,Yo_train)\n",
    "test_score = model.score(Xo_test, Yo_test)\n",
    "print(f'Le score à l\\'entrenement est:{train_score}')\n",
    "print(f'Le score du modèle sur le jeu de test {test_score}')"
   ]
  },
  {
   "cell_type": "markdown",
   "id": "35e13175",
   "metadata": {},
   "source": [
    "* Modèle DradientboostRegressor"
   ]
  },
  {
   "cell_type": "code",
   "execution_count": 68,
   "id": "bafd1189",
   "metadata": {},
   "outputs": [
    {
     "data": {
      "text/plain": [
       "GradientBoostingRegressor()"
      ]
     },
     "execution_count": 68,
     "metadata": {},
     "output_type": "execute_result"
    }
   ],
   "source": [
    "G_model.fit(Xo_train,Yo_train)"
   ]
  },
  {
   "cell_type": "code",
   "execution_count": 69,
   "id": "6d8c68b7",
   "metadata": {},
   "outputs": [
    {
     "name": "stdout",
     "output_type": "stream",
     "text": [
      "Train Score 0.9999826809419722\n",
      "Test Score 0.9995685721939789\n"
     ]
    }
   ],
   "source": [
    "train_score_o = G_model.score(Xo_train,Yo_train)\n",
    "test_score_o = G_model.score(Xo_test, Yo_test)\n",
    "print(f'Train Score {train_score_o}')\n",
    "print(f'Test Score {test_score_o}')"
   ]
  },
  {
   "cell_type": "code",
   "execution_count": 70,
   "id": "96ea5616",
   "metadata": {},
   "outputs": [
    {
     "data": {
      "image/png": "[encoded data removed]",
      "text/plain": [
       "<Figure size 864x576 with 1 Axes>"
      ]
     },
     "metadata": {},
     "output_type": "display_data"
    }
   ],
   "source": [
    "var, train_score, val_score = learning_curve(model,Xo_train, Yo_train, train_sizes=np.linspace(0.1,1.0,10), cv=5)\n",
    "plt.figure(figsize=(12,8))\n",
    "plt.title('Courbe de Validation de la Regression Linear avec les valeurs aberrantes')\n",
    "plt.plot(var, train_score.mean(axis = 1), label = 'Train')\n",
    "plt.plot(var, val_score.mean(axis = 1), label = 'Validation')\n",
    "plt.xlabel('Train_size')\n",
    "plt.legend()\n",
    "plt.show()"
   ]
  },
  {
   "cell_type": "code",
   "execution_count": null,
   "id": "443239ea",
   "metadata": {},
   "outputs": [],
   "source": []
  }
 ],
 "metadata": {
  "kernelspec": {
   "display_name": "Python 3",
   "language": "python",
   "name": "python3"
  },
  "language_info": {
   "codemirror_mode": {
    "name": "ipython",
    "version": 3
   },
   "file_extension": ".py",
   "mimetype": "text/x-python",
   "name": "python",
   "nbconvert_exporter": "python",
   "pygments_lexer": "ipython3",
   "version": "3.9.5"
  }
 },
 "nbformat": 4,
 "nbformat_minor": 5
}
